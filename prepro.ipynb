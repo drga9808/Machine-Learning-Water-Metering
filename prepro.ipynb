{
 "cells": [
  {
   "attachments": {},
   "cell_type": "markdown",
   "metadata": {},
   "source": [
    "# Preprocesing"
   ]
  },
  {
   "attachments": {},
   "cell_type": "markdown",
   "metadata": {},
   "source": [
    "## Getting the dataset and selecting the district to work with"
   ]
  },
  {
   "attachments": {},
   "cell_type": "markdown",
   "metadata": {},
   "source": [
    "### Finding the biggest difference beetwen # of households and # of non-households"
   ]
  },
  {
   "cell_type": "code",
   "execution_count": 19,
   "metadata": {},
   "outputs": [
    {
     "name": "stdout",
     "output_type": "stream",
     "text": [
      "     0   1    2  3\n",
      "0    9  E4    7  6\n",
      "1   26  S1  442  6\n",
      "2   30  N2  416  6\n",
      "3  160  S4  543  6\n",
      "4  218  W1  472  6 \n",
      "\n",
      "(43, 4) \n",
      "\n",
      "The bigger difference is:  1403  in the row # 10  from the DMA # 512  in the area  E1\n"
     ]
    }
   ],
   "source": [
    "import pandas as pd\n",
    "\n",
    "# Specify the path to your CSV file\n",
    "csv_file_path = 'DMA Property Count 2016_2017.csv'\n",
    "\n",
    "# Define the column data types\n",
    "dtypes = {0: int, 1: str, 2: int, 3: int}\n",
    "\n",
    "# Read the CSV file into a pandas DataFrame\n",
    "dataset = pd.read_csv(csv_file_path, header=None, dtype=dtypes, skiprows=1)\n",
    "\n",
    "# remove the first row with the column names\n",
    "dataset = dataset[dataset[3] == 6]\n",
    "\n",
    "print(dataset.head(5), \"\\n\")\n",
    "\n",
    "print(dataset.shape, \"\\n\")\n",
    "\n",
    "# Variables\n",
    "max_diff = 0\n",
    "index = 0\n",
    "DMA = 0\n",
    "area = \"\"\n",
    "\n",
    "# You can access the rows and values like this:\n",
    "for i, row in dataset.iterrows():\n",
    "    cur_diff = row[2] - row[3]  \n",
    "    if  cur_diff > max_diff:\n",
    "        max_diff = cur_diff\n",
    "        index = i\n",
    "        DMA = row[0]\n",
    "        area = row[1]\n",
    "   \n",
    "print(\"The bigger difference is: \", max_diff, \" in the row #\", index + 1, \n",
    "      \" from the DMA #\", DMA, \" in the area \", area) \n"
   ]
  },
  {
   "attachments": {},
   "cell_type": "markdown",
   "metadata": {},
   "source": [
    "#### Trying wwith the DMA to postal sector dataset"
   ]
  },
  {
   "cell_type": "code",
   "execution_count": 20,
   "metadata": {},
   "outputs": [
    {
     "name": "stdout",
     "output_type": "stream",
     "text": [
      "     0       1    2  3   4   5   6\n",
      "0   25   HD9 2   29  6 NaN NaN NaN\n",
      "1   65  BD17 5  846  6 NaN NaN NaN\n",
      "2  155   S73 0  106  6 NaN NaN NaN\n",
      "3  160   S12 2  543  6 NaN NaN NaN\n",
      "4  204   LS3 1  158  6 NaN NaN NaN \n",
      "\n",
      "(88, 7) \n",
      "\n",
      "The bigger difference is:  1073  in the row # 49  from the DMA # 1177  in the sector  LS25 7\n"
     ]
    }
   ],
   "source": [
    "import pandas as pd\n",
    "\n",
    "# Specify the path to your CSV file\n",
    "csv_file_path = 'DMA to Postal Sector.csv'\n",
    "\n",
    "# Define the column data types\n",
    "dtypes = {0: int, 1: str, 2: int, 3: int}\n",
    "\n",
    "# Read the CSV file into a pandas DataFrame\n",
    "dataset = pd.read_csv(csv_file_path, header=None, dtype=dtypes, skiprows=1)\n",
    "\n",
    "# remove the first row with the column names\n",
    "dataset = dataset[dataset[3] == 6]\n",
    "\n",
    "print(dataset.head(5), \"\\n\")\n",
    "\n",
    "print(dataset.shape, \"\\n\")\n",
    "\n",
    "# Variables\n",
    "max_diff = 0\n",
    "index = 0\n",
    "DMA = 0\n",
    "area = \"\"\n",
    "\n",
    "# You can access the rows and values like this:\n",
    "for i, row in dataset.iterrows():\n",
    "    cur_diff = row[2] - row[3]  \n",
    "    if  cur_diff > max_diff:\n",
    "        max_diff = cur_diff\n",
    "        index = i\n",
    "        DMA = row[0]\n",
    "        area = row[1]\n",
    "   \n",
    "print(\"The bigger difference is: \", max_diff, \" in the row #\", index + 1, \n",
    "      \" from the DMA #\", DMA, \" in the sector \", area) "
   ]
  },
  {
   "attachments": {},
   "cell_type": "markdown",
   "metadata": {},
   "source": [
    "### Extracting a new dataset that only contains the data of the DMA with the biggest difference"
   ]
  },
  {
   "cell_type": "code",
   "execution_count": 21,
   "metadata": {},
   "outputs": [
    {
     "name": "stdout",
     "output_type": "stream",
     "text": [
      "     0           1         2      3  4\n",
      "0  512  01/04/2016  00:00:00  2.144  V\n",
      "1  512  01/04/2016  00:15:00  2.056  V\n",
      "2  512  01/04/2016  00:30:00  1.944  V\n",
      "3  512  01/04/2016  00:45:00  1.867  V\n",
      "4  512  01/04/2016  01:00:00  1.867  V \n",
      "\n",
      "(35040, 5)\n"
     ]
    }
   ],
   "source": [
    "import pandas as pd\n",
    "\n",
    "# Specify the path to your CSV file\n",
    "csv_file_path = 'E1 2016_2017.csv'\n",
    "\n",
    "# Define the column data types\n",
    "dtypes = {0: int, 1: str, 2: str, 3: float, 4: str}\n",
    "\n",
    "# Read the CSV file into a pandas DataFrame, skipping the first row\n",
    "raw_dataset = pd.read_csv(csv_file_path, header=None, skiprows=1, dtype=dtypes)\n",
    "\n",
    "# remove the first row which contains the names of the columns\n",
    "raw_dataset = raw_dataset.drop(0)\n",
    "\n",
    "# Select the data for the DMA #512\n",
    "DMA_512 = raw_dataset[raw_dataset[0] == 512]\n",
    "\n",
    "# Reset the index\n",
    "DMA_512 = DMA_512.reset_index(drop=True)\n",
    "\n",
    "print(DMA_512.head(5), \"\\n\")\n",
    "\n",
    "print(DMA_512.shape)\n"
   ]
  },
  {
   "attachments": {},
   "cell_type": "markdown",
   "metadata": {},
   "source": [
    "### Cleaning the new dataset"
   ]
  },
  {
   "cell_type": "code",
   "execution_count": 22,
   "metadata": {},
   "outputs": [
    {
     "name": "stdout",
     "output_type": "stream",
     "text": [
      "     0           1         2      3\n",
      "0  512  01/04/2016  00:00:00  2.144\n",
      "1  512  01/04/2016  00:15:00  2.056\n",
      "2  512  01/04/2016  00:30:00  1.944\n",
      "3  512  01/04/2016  00:45:00  1.867\n",
      "4  512  01/04/2016  01:00:00  1.867 \n",
      "\n",
      "(35018, 4)\n"
     ]
    }
   ],
   "source": [
    "# Select only the valid Readings (V)\n",
    "DMA_512 = DMA_512[DMA_512[4] == 'V']\n",
    "DMA_512.drop(4, axis=1, inplace=True)\n",
    "\n",
    "print(DMA_512.head(5), \"\\n\")\n",
    "print(DMA_512.shape)"
   ]
  },
  {
   "attachments": {},
   "cell_type": "markdown",
   "metadata": {},
   "source": [
    "### Converting and combining the date information "
   ]
  },
  {
   "cell_type": "code",
   "execution_count": 23,
   "metadata": {},
   "outputs": [
    {
     "name": "stdout",
     "output_type": "stream",
     "text": [
      "   DMA            datetime  flow_value\n",
      "0  512 2016-04-01 00:00:00       2.144\n",
      "1  512 2016-04-01 00:15:00       2.056\n",
      "2  512 2016-04-01 00:30:00       1.944\n",
      "3  512 2016-04-01 00:45:00       1.867\n",
      "4  512 2016-04-01 01:00:00       1.867 \n",
      "\n",
      "(35018, 3)\n"
     ]
    }
   ],
   "source": [
    "# Convert the date and time columns to datetime format\n",
    "DMA_512[1] = pd.to_datetime(DMA_512[1], format='%d/%m/%Y')\n",
    "DMA_512[2] = pd.to_datetime(DMA_512[2])\n",
    "\n",
    "# Combine the date and time columns into a single datetime column\n",
    "dtime_column = DMA_512[1].dt.date.astype(str) + ' ' + DMA_512[2].dt.time.astype(str)\n",
    "\n",
    "# Creating a new dataset with the merge datetime column\n",
    "DMA_Final = DMA_512\n",
    "DMA_Final[1] = dtime_column\n",
    "DMA_Final[1] = pd.to_datetime(DMA_Final[1])\n",
    "\n",
    "# Remove the old time column\n",
    "DMA_Final.drop(2, axis=1, inplace=True)\n",
    "\n",
    "# Reordering the indexes     ****It doesn't function******\n",
    "#DMA_Final = DMA_Final.reset_index(drop=True)\n",
    "#DMA_Final = DMA_Final.reindex(columns=[0, 1, 2])\n",
    "\n",
    "DMA_Final.columns = ['DMA', 'datetime', 'flow_value']\n",
    "\n",
    "print(DMA_Final.head(5), \"\\n\")\n",
    "\n",
    "print(DMA_Final.shape)"
   ]
  },
  {
   "attachments": {},
   "cell_type": "markdown",
   "metadata": {},
   "source": [
    "## Looking for Patterns in the data"
   ]
  },
  {
   "attachments": {},
   "cell_type": "markdown",
   "metadata": {},
   "source": [
    "### Plotting"
   ]
  },
  {
   "attachments": {},
   "cell_type": "markdown",
   "metadata": {},
   "source": [
    "#### Separate for years"
   ]
  },
  {
   "cell_type": "code",
   "execution_count": 24,
   "metadata": {},
   "outputs": [],
   "source": [
    "# Create a DateTimeIndex using the 'datetime' column\n",
    "index = pd.DatetimeIndex(DMA_Final['datetime'])\n",
    "\n",
    "# Create a list to hold the 12 datasets\n",
    "yearly_datasets = []\n",
    "\n",
    "# Iterate over each month and extract the corresponding dataset\n",
    "for year in range(2016, 2018):\n",
    "    # Filter the dataset based on the month\n",
    "    yearly_data = DMA_Final[index.year == year]\n",
    "    # Append the filtered dataset to the list\n",
    "    yearly_datasets.append(yearly_data)"
   ]
  },
  {
   "attachments": {},
   "cell_type": "markdown",
   "metadata": {},
   "source": [
    "#### Separate for months"
   ]
  },
  {
   "cell_type": "code",
   "execution_count": 25,
   "metadata": {},
   "outputs": [],
   "source": [
    "# Create a DateTimeIndex using the 'datetime' column\n",
    "index2016 = pd.DatetimeIndex(yearly_datasets[0]['datetime'])\n",
    "index2017 = pd.DatetimeIndex(yearly_datasets[1]['datetime'])\n",
    "\n",
    "# Create a list to hold the 12 datasets\n",
    "monthly_datasets_2016 = []\n",
    "monthly_datasets_2017 = []\n",
    "\n",
    "# Iterate over each month and extract the corresponding dataset\n",
    "for year in range(2016,2018):\n",
    "    \n",
    "    for month in range(1, 13):    \n",
    "        # Filter the dataset based on the month and year\n",
    "        if year == 2016:\n",
    "            monthly_data = yearly_datasets[0][index2016.month == month]\n",
    "        else:\n",
    "            monthly_data = yearly_datasets[1][index2017.month == month]\n",
    "\n",
    "        # Append the filtered dataset to the list\n",
    "        if year == 2016:\n",
    "            monthly_datasets_2016.append(monthly_data)\n",
    "        else:\n",
    "            monthly_datasets_2017.append(monthly_data)\n"
   ]
  },
  {
   "attachments": {},
   "cell_type": "markdown",
   "metadata": {},
   "source": [
    "#### Plotting in line chart"
   ]
  },
  {
   "attachments": {},
   "cell_type": "markdown",
   "metadata": {},
   "source": [
    "##### Period of days"
   ]
  },
  {
   "cell_type": "code",
   "execution_count": 26,
   "metadata": {},
   "outputs": [
    {
     "data": {
      "image/png": "[encoded data removed]",
      "text/plain": [
       "<Figure size 1000x600 with 1 Axes>"
      ]
     },
     "metadata": {},
     "output_type": "display_data"
    }
   ],
   "source": [
    "import matplotlib.pyplot as plt\n",
    "\n",
    "# Define the range of time to show\n",
    "\n",
    "# Startdate\n",
    "start_hour = 0\n",
    "start_minute = 0\n",
    "start_day = 1\n",
    "start_month = 4\n",
    "\n",
    "start_date = pd.Timestamp(year=2016, \n",
    "                         month=start_month, \n",
    "                         day=start_day, \n",
    "                         hour=start_hour, \n",
    "                         minute=start_minute, \n",
    "                         second=0)\n",
    "\n",
    "# Enddate\n",
    "end_hour = 0\n",
    "end_minute = 0\n",
    "end_day = 3\n",
    "end_month = 4\n",
    "\n",
    "end_date = pd.Timestamp(year=2016, \n",
    "                       month=end_month, \n",
    "                       day=end_day, \n",
    "                       hour=end_hour, \n",
    "                       minute=end_minute, \n",
    "                       second=0)\n",
    "\n",
    "# Filter the dataset based on the specified date range\n",
    "filtered_data = monthly_datasets_2016[3][(monthly_datasets_2016[3]['datetime'] >= start_date) \n",
    "                                         & (monthly_datasets_2016[3]['datetime'] <= end_date)]\n",
    "\n",
    "plt.figure(figsize=(10, 6))\n",
    "plt.plot(filtered_data['datetime'], filtered_data['flow_value'])\n",
    "#plt.plot(monthly_datasets_2016[4]['datetime'], monthly_datasets_2016[4]['flow_value'])\n",
    "plt.xlabel('Datetime')\n",
    "plt.ylabel('Water Flow')\n",
    "plt.title('Water Flow Over Time')\n",
    "\n",
    "plt.xticks(rotation=45)\n",
    "plt.show()\n"
   ]
  },
  {
   "attachments": {},
   "cell_type": "markdown",
   "metadata": {},
   "source": [
    "##### Period of Hours"
   ]
  },
  {
   "cell_type": "code",
   "execution_count": 27,
   "metadata": {},
   "outputs": [
    {
     "data": {
      "image/png": "[encoded data removed]",
      "text/plain": [
       "<Figure size 1000x600 with 1 Axes>"
      ]
     },
     "metadata": {},
     "output_type": "display_data"
    }
   ],
   "source": [
    "import matplotlib.dates as mdates\n",
    "\n",
    "# Define the range of time to show\n",
    "\n",
    "# Startdate\n",
    "start_hour = 0\n",
    "start_minute = 0\n",
    "start_day = 1\n",
    "start_month = 4\n",
    "\n",
    "startdate = pd.Timestamp(year=2016, \n",
    "                         month=start_month, \n",
    "                         day=start_day, \n",
    "                         hour=start_hour, \n",
    "                         minute=start_minute, \n",
    "                         second=0)\n",
    "\n",
    "# Enddate\n",
    "end_hour = 6\n",
    "end_minute = 0\n",
    "end_day = 1\n",
    "end_month = 4\n",
    "\n",
    "enddate = pd.Timestamp(year=2016, \n",
    "                       month=end_month, \n",
    "                       day=end_day, \n",
    "                       hour=end_hour, \n",
    "                       minute=end_minute, \n",
    "                       second=0)\n",
    "\n",
    "# Filter the dataset based on the specified date range\n",
    "filtered_data = monthly_datasets_2016[3][(monthly_datasets_2016[3]['datetime'] >= startdate) \n",
    "                                         & (monthly_datasets_2016[3]['datetime'] <= enddate)]\n",
    "\n",
    "plt.figure(figsize=(10, 6))\n",
    "plt.plot(filtered_data['datetime'], filtered_data['flow_value'])\n",
    "plt.xlabel('Datetime')\n",
    "plt.ylabel('Water Flow')\n",
    "plt.title('Water Flow Over Time')\n",
    "\n",
    "# Format x-axis tick labels to show hours only\n",
    "plt.gca().xaxis.set_major_locator(mdates.HourLocator(interval=1))\n",
    "plt.gca().xaxis.set_major_formatter(mdates.DateFormatter('%H:%M'))\n",
    "\n",
    "plt.xticks(rotation=45)\n",
    "plt.show()\n"
   ]
  },
  {
   "attachments": {},
   "cell_type": "markdown",
   "metadata": {},
   "source": [
    "### Taking the Night Interval (12:00AM to 05:00AM)"
   ]
  },
  {
   "cell_type": "code",
   "execution_count": 39,
   "metadata": {},
   "outputs": [
    {
     "name": "stdout",
     "output_type": "stream",
     "text": [
      "   DMA            datetime  flow_value\n",
      "0  512 2016-04-01 00:00:00       2.144\n",
      "1  512 2016-04-01 00:15:00       2.056\n",
      "2  512 2016-04-01 00:30:00       1.944\n",
      "3  512 2016-04-01 00:45:00       1.867\n",
      "4  512 2016-04-01 01:00:00       1.867 \n",
      "\n",
      "(8740, 3)\n"
     ]
    }
   ],
   "source": [
    "Night_data = DMA_Final[(DMA_Final['datetime'].dt.hour >= 0) \n",
    "                       & (DMA_Final['datetime'].dt.hour <= 5)]\n",
    "\n",
    "print(Night_data.head(5), \"\\n\")\n",
    "\n",
    "print(Night_data.shape)"
   ]
  },
  {
   "attachments": {},
   "cell_type": "markdown",
   "metadata": {},
   "source": [
    "#### Looking for the extreme values"
   ]
  },
  {
   "cell_type": "code",
   "execution_count": 56,
   "metadata": {},
   "outputs": [
    {
     "name": "stdout",
     "output_type": "stream",
     "text": [
      "The max water flow with value: 7.04 was detected the day 6-7-2016 \n",
      "\n",
      "The min water flow with value: 0.02 was detected the day 29-6-2016 \n",
      "\n",
      "The mean flow is: 2.54 \n",
      "\n"
     ]
    }
   ],
   "source": [
    "# Max Flow\n",
    "max_flow = Night_data['flow_value'].max()\n",
    "max_row = Night_data.loc[Night_data['flow_value'] == max_flow]\n",
    "\n",
    "print(f\"The max water flow with value: {max_flow:.2f} \\\n",
    "was detected the day {(max_row['datetime'].dt.day.item())}\\\n",
    "-{max_row['datetime'].dt.month.item()}\\\n",
    "-{max_row['datetime'].dt.year.item()} \\n\")\n",
    "\n",
    "\n",
    "# Min Flow\n",
    "min_flow = Night_data['flow_value'].min()\n",
    "min_row = Night_data.loc[Night_data['flow_value'] == min_flow]\n",
    "\n",
    "print(f\"The min water flow with value: {min_flow:.2f} \\\n",
    "was detected the day {(min_row['datetime'].dt.day.item())}\\\n",
    "-{min_row['datetime'].dt.month.item()}\\\n",
    "-{min_row['datetime'].dt.year.item()} \\n\")\n",
    "\n",
    "\n",
    "# Mean Flow\n",
    "mean_flow = Night_data['flow_value'].mean()\n",
    "\n",
    "print(f\"The mean flow is: {mean_flow:.2f} \\n\")\n"
   ]
  },
  {
   "cell_type": "code",
   "execution_count": null,
   "metadata": {},
   "outputs": [],
   "source": []
  }
 ],
 "metadata": {
  "kernelspec": {
   "display_name": "ApAut",
   "language": "python",
   "name": "python3"
  },
  "language_info": {
   "codemirror_mode": {
    "name": "ipython",
    "version": 3
   },
   "file_extension": ".py",
   "mimetype": "text/x-python",
   "name": "python",
   "nbconvert_exporter": "python",
   "pygments_lexer": "ipython3",
   "version": "3.9.16"
  },
  "orig_nbformat": 4
 },
 "nbformat": 4,
 "nbformat_minor": 2
}
